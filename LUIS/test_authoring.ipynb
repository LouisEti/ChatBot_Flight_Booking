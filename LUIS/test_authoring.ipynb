{
 "cells": [
  {
   "cell_type": "code",
   "execution_count": 1,
   "metadata": {},
   "outputs": [],
   "source": [
    "from azure.cognitiveservices.language.luis.authoring import LUISAuthoringClient\n",
    "from azure.cognitiveservices.language.luis.authoring.models import ApplicationCreateObject\n",
    "from azure.cognitiveservices.language.luis.runtime import LUISRuntimeClient\n",
    "from msrest.authentication import CognitiveServicesCredentials\n",
    "from functools import reduce\n",
    "import numpy as np\n",
    "import pandas as pd\n",
    "import json, time, uuid, os "
   ]
  },
  {
   "cell_type": "code",
   "execution_count": 37,
   "metadata": {},
   "outputs": [],
   "source": [
    "# authoringKey = '58c164d9218d49fbbded211388bb06ad'\n",
    "# authoringEndpoint = 'https://luisoc-authoring.cognitiveservices.azure.com/'\n",
    "# predictionKey = '10cf4c925d3640e39afc9c76af3488c8'\n",
    "# predictionEndpoint = 'https://luis-oc.cognitiveservices.azure.com/'\n",
    "# LUIS_SLOT_NAME = 'Production'\n",
    "# LUIS_APP_ID = '92cd3bfb-bb53-4af9-8f74-2c307d7828e4'\n",
    "\n",
    "authoringKey ='58c164d9218d49fbbded211388bb06ad'\n",
    "authoringEndpoint = 'https://luisoc-authoring.cognitiveservices.azure.com/'\n",
    "predictionKey = '10cf4c925d3640e39afc9c76af3488c8'\n",
    "predictionEndpoint = 'https://luis-oc.cognitiveservices.azure.com/'\n",
    "LUIS_SLOT_NAME = 'Production'\n",
    "LUIS_APP_ID = '4a9683a7-525a-4df5-aa8d-e4f9f088ce51'\n",
    "\n",
    "appName = \"FlightBooking2_\" + str(uuid.uuid4())\n",
    "versionId = \"0.1\"\n",
    "\n",
    "client = LUISAuthoringClient(authoringEndpoint, CognitiveServicesCredentials(authoringKey))\n",
    "clientRuntime = LUISRuntimeClient(predictionEndpoint, CognitiveServicesCredentials(predictionKey))\n",
    "\n",
    "#Define app basics \n",
    "appDefinition = ApplicationCreateObject(name=appName, initial_version_id=versionId, culture='fr-fr')\n"
   ]
  },
  {
   "cell_type": "code",
   "execution_count": null,
   "metadata": {},
   "outputs": [],
   "source": [
    "request = \"I want to travel from paris to Berlin the 12/12/2023 to 15/12/2023 for 500 euros\"\n",
    "\n"
   ]
  },
  {
   "cell_type": "code",
   "execution_count": 8,
   "metadata": {},
   "outputs": [],
   "source": [
    "def create_app(client):\n",
    "    \n",
    "    #Create app \n",
    "    app_id = client.apps.add(appDefinition)\n",
    "\n",
    "    #Get app id -necessary for all other changes \n",
    "    print(\"Created LUIS app with ID {}\".format(app_id))\n",
    "    return app_id\n",
    "    \n",
    "    \n",
    "\n",
    "def add_intents(client, app_id, app_version):\n",
    "    \"\"\"Creation of intents.\n",
    "    Parameters: app_id (LUIS App ID), app_version(LUIS App version)\n",
    "    Outputs: intents' ID \n",
    "    \"\"\"\n",
    "    \n",
    "    #Create intents list\n",
    "    intents_list = [\"BookFlight\"] \n",
    "    \n",
    "    for intent in intents_list:\n",
    "        intentID = client.model.add_intent(app_id, app_version, intent)\n",
    "        print(\"{} ID {} added.\".format(intent, intentID))\n",
    "        \n",
    "        \n",
    "\n",
    "def add_entities(client, app_id, app_version):\n",
    "    \n",
    "    #Define and add machine-learned entity to app \n",
    "    origine_ID = client.model.add_entity(app_id, app_version, name=\"or_city\")\n",
    "    print(\"Entity {} {} added.\".format(\"or_city\", origine_ID))\n",
    "\n",
    "    destination_ID = client.model.add_entity(app_id, app_version, name='dst_city')\n",
    "    print(\"Entity {} {} added.\".format('dst_city', destination_ID))\n",
    "\n",
    "    start_date_ID = client.model.add_entity(app_id, app_version, name='str_date')\n",
    "    print(\"Entity {} {} added.\".format('str_date', start_date_ID))\n",
    "\n",
    "    end_date_ID = client.model.add_entity(app_id, app_version, name='end_date')\n",
    "    print(\"Entity {} {} added.\".format('end_date', end_date_ID))\n",
    "\n",
    "    budget_ID = client.model.add_entity(app_id, app_version, name='budget')\n",
    "    print(\"Entity {} {} added.\".format('budget', budget_ID))\n",
    "\n",
    "    # # Add prebuilt entities\n",
    "    # datetime_ID = client.model.add_prebuilt(app_id, app_version, prebuilt_extractor_names=['datetimeV2'])\n",
    "    # print(\"Prebuit Entity {} {} added.\".format('datetime', datetime_ID))\n",
    "    \n",
    "\n",
    "def create_train_utterance(intent, utterance, *labels):    \n",
    "    \"\"\"LUIS expects a specifif data format for TRAIN data:\n",
    "        this function creates these formatted utterances.\n",
    "            Parameters:\n",
    "                intent: the intent for which the utterances are associated\n",
    "                utterance: a batch of utterances\n",
    "                labels: \n",
    "                    - key/value pair for entities \n",
    "                    - key/value pair for char start index (startCharIndex)\n",
    "                    - key value pair for char end index (endCharIndex)\n",
    "            Outputs:\n",
    "                the formatted data, including :\n",
    "                    - text, intentName, \n",
    "                    - a list of dictionary of entityLabels and char's indexes\n",
    "    \"\"\"\n",
    "\n",
    "    text = utterance.lower()\n",
    "\n",
    "    def label(name, value):\n",
    "        value= value.lower()\n",
    "        start = text.index(value)\n",
    "\n",
    "        return dict(\n",
    "                    entityName=name,\n",
    "                    startCharIndex=start,\n",
    "                    endCharIndex=start + len(value))\n",
    "\n",
    "    return dict(text=text, intentName=intent,\n",
    "                entityLabels=[label(n,v) for (n,v) in labels])\n",
    "\n",
    "\n",
    "\n",
    "def convert_as_utterance(data, intentCall='BookFlight', df='Train'):\n",
    "    \"\"\"Call data structure for 'Train' or 'Test'.\n",
    "            Parameters: \n",
    "                dataframe, name of intent, train/test indication\n",
    "            Outputs:\n",
    "                my_data : transformed data\n",
    "    \"\"\"\n",
    "    \n",
    "    utterances_data= []\n",
    "    \n",
    "    #Exclude entities with nan values from the list\n",
    "    nan_list = [\"nan\", \"Nan\", \"\", np.nan, None]\n",
    "    \n",
    "    #Iterate over the rows\n",
    "    for index, row in data.iterrows(): #data.iterrows() is series where index are entities' names\n",
    "        \n",
    "        #Create a list of entities'tuple (key, value)\n",
    "        entities = []\n",
    "        if row.or_city not in nan_list:\n",
    "            entities.append((\"or_city\", row.or_city))\n",
    "        if row.dst_city not in nan_list:\n",
    "            entities.append(('dst_city', row.dst_city))\n",
    "        if row.str_date not in nan_list:\n",
    "            entities.append(('str_date', row.str_date))\n",
    "        if row.end_date not in nan_list:\n",
    "            entities.append(('end_date', row.end_date))\n",
    "        if row.budget not in nan_list:\n",
    "            entities.append(('budget', row.budget))\n",
    "            \n",
    "        #Call the function to create the LUIS data in correct format \n",
    "        if df == 'Train':\n",
    "            output = create_train_utterance(intentCall, row.text, *entities)\n",
    "        if df == 'Test':\n",
    "            output = create_test_utterance(intentCall, row.text, *entities)\n",
    "            \n",
    "        #Save outputs in utterances_data\n",
    "        utterances_data.append(output)\n",
    "        \n",
    "    print('Length Utterances data', len(utterances_data))\n",
    "    \n",
    "    #Format to JSON and save \n",
    "    content = json.dumps(utterances_data)\n",
    "    my_data = json.loads(content)\n",
    "    \n",
    "    return my_data\n",
    "        \n",
    "        \n",
    "def add_utterances_to_luis(client, app_id, app_version, my_data):\n",
    "    #Collect utterances data \n",
    "    utterances = my_data\n",
    "    \n",
    "    #Add the utterances in batch (max_batch_size=100 utterances for one call)\n",
    "    client.examples.batch(app_id, app_version, utterances)\n",
    "        \n",
    "\n",
    "\n",
    "def train_app(client, app_id, app_version):\n",
    "    \"\"\"Train the LUIS app when all the utterances are uploaded.\n",
    "            Parameters:\n",
    "                app_id : LUIS App ID\n",
    "                app_version : Luis App version\n",
    "            Outputs:\n",
    "                None (the trained status can be checked on LUIS portal)\n",
    "    \"\"\"\n",
    "    client.train.train_version(app_id, app_version)\n",
    "    waiting = True\n",
    "    \n",
    "    while waiting:\n",
    "        info = client.train.get_status(app_id, app_version)\n",
    "        \n",
    "        # get_status returns a list of training statuses, one for each model\n",
    "        # Loop through them and make sure all are done\n",
    "        waiting = any(\n",
    "            map(\n",
    "                lambda x: 'Queued' == x.details.status or 'InProgress' == x.details.status, info))\n",
    "        \n",
    "        if waiting:\n",
    "            print (\"Waiting 10 seconds for training to complete...\")\n",
    "            time.sleep(10)\n",
    "\n",
    "        else:\n",
    "            print('Trained')\n",
    "            waiting = False\n",
    "                \n",
    "        \n",
    "        \n",
    "def publish_app(client, app_id, app_version):\n",
    "    \"\"\"Publish LUIS application.\n",
    "            Parameters:\n",
    "                app_id : LUIS App ID\n",
    "                app_version : Luis App version\n",
    "            Outputs:\n",
    "                None\n",
    "                (On LUIS portal : endpoint URL )\n",
    "    \"\"\"\n",
    "    # Mark the app as public so we can query it using any prediction endpoint\n",
    "    client.apps.update_settings(app_id, is_public=True)\n",
    "    \n",
    "    responseEndpointInfo = client.apps.publish(\n",
    "        app_id, \n",
    "        app_version,\n",
    "        is_staging=False)\n",
    "\n",
    "    print('Application published. Endpoint URL: ', \n",
    "          responseEndpointInfo.endpoint_url)\n",
    "        \n",
    "        \n",
    "        \n",
    "        \n",
    "def create_test_utterance(intent, utterance, *labels):\n",
    "    \"\"\"LUIS expects a specifif data format for TEST data:\n",
    "        this function creates these formatted utterances.\n",
    "            Parameters:\n",
    "                intent: the intent for which the utterances are associated\n",
    "                utterance: a batch of utterances\n",
    "                labels: \n",
    "                    - key/value pair for entities \n",
    "                    - key/value pair for char start position (startPos)\n",
    "                    - key value pair for char end position (endPos)\n",
    "            Outputs:\n",
    "                the formatted data, including :\n",
    "                    - text, intent, \n",
    "                    - a list of dictionary of entities and char's positions\n",
    "    \"\"\"\n",
    "\n",
    "    text = utterance.lower()\n",
    "\n",
    "    def label(name, value):\n",
    "        value = value.lower()\n",
    "        start = text.index(value)\n",
    "        return dict(entity=name, startPos=start,\n",
    "                    endPos=start + len(value))\n",
    "\n",
    "    return dict(text=text, intent=intent,\n",
    "                entities=[label(n, v) for (n, v) in labels])        \n",
    "\n",
    "    \n",
    "    \n",
    "def predict(clientRuntime):\n",
    "    \"\"\" Test LUIS prediction capabilities\n",
    "    \"\"\"\n",
    "    request = {\n",
    "        'query':'book a flight from Tunis to Toronto between 22 October 2021 to 5 November 2021, for a budget of $3500'\n",
    "        }\n",
    "    \n",
    "    # The slot name parameter must be specified (staging or production)\n",
    "    # For version 0.2.0, use \"resolve\" method\n",
    "    # For version 0.7.0, use \"get_slot_prediction\" method\n",
    "    response = clientRuntime.prediction.resolve(LUIS_APP_ID, query=request)\n",
    "\n",
    "    text = response.query\n",
    "    top_intent = response.top_scoring_intent.intent\n",
    "    all_entities = response.entities\n",
    "    \n",
    "    return text, top_intent, all_entities    "
   ]
  },
  {
   "cell_type": "code",
   "execution_count": 4,
   "metadata": {},
   "outputs": [
    {
     "name": "stdout",
     "output_type": "stream",
     "text": [
      "Created LUIS app with ID 4a9683a7-525a-4df5-aa8d-e4f9f088ce51\n"
     ]
    }
   ],
   "source": [
    "app_id = create_app(client)"
   ]
  },
  {
   "cell_type": "code",
   "execution_count": 10,
   "metadata": {},
   "outputs": [],
   "source": [
    "app_id = '4a9683a7-525a-4df5-aa8d-e4f9f088ce51'"
   ]
  },
  {
   "cell_type": "code",
   "execution_count": 309,
   "metadata": {},
   "outputs": [],
   "source": [
    "predictionRequest = {'query':'book a flight for 10 days from 10 September 2022 from Paris to Brazil with a budget of 4000€' }\n",
    "\n",
    "# predictionResponse = clientRuntime.prediction.resolve(LUIS_APP_ID, predictionRequest)\n",
    "predictionResponse = clientRuntime.prediction.get_slot_prediction(app_id, \"Production\", predictionRequest)\n",
    "predictionResponse"
   ]
  },
  {
   "cell_type": "code",
   "execution_count": 36,
   "metadata": {},
   "outputs": [
    {
     "name": "stdout",
     "output_type": "stream",
     "text": [
      "<bound method Model.deserialize of <class 'azure.cognitiveservices.language.luis.runtime.models.entity_model_py3.EntityModel'>>\n",
      "<bound method Model.deserialize of <class 'azure.cognitiveservices.language.luis.runtime.models.entity_model_py3.EntityModel'>>\n"
     ]
    }
   ],
   "source": [
    "for i in predictionResponse.entities:\n",
    "    print(i.deserialize)"
   ]
  },
  {
   "cell_type": "code",
   "execution_count": 6,
   "metadata": {},
   "outputs": [
    {
     "name": "stdout",
     "output_type": "stream",
     "text": [
      "BookFlight ID 8c448052-a758-48ac-affe-9c5789be4764 added.\n"
     ]
    }
   ],
   "source": [
    "add_intents(client, app_id, versionId)"
   ]
  },
  {
   "cell_type": "code",
   "execution_count": 7,
   "metadata": {},
   "outputs": [
    {
     "name": "stdout",
     "output_type": "stream",
     "text": [
      "Entity or_city 998a0f9b-b86e-455b-abb6-b8d139ee23a0 added.\n",
      "Entity dst_city 988d30fb-09c6-45f1-b042-0dc9fe1f1d60 added.\n",
      "Entity str_date 549dd178-cac0-4ec9-a073-24ab8f015a8b added.\n",
      "Entity end_date 0edf0247-6490-4151-ae0b-9bebe92b6c79 added.\n",
      "Entity budget 667e29b6-ba6c-4e07-9d26-ca52177b22d6 added.\n"
     ]
    }
   ],
   "source": [
    "#Add entities \n",
    "add_entities(client, app_id, versionId)"
   ]
  },
  {
   "cell_type": "code",
   "execution_count": 8,
   "metadata": {},
   "outputs": [],
   "source": [
    "train_df = os.path.join(\"./luis_app/data/train_df.csv\")\n",
    "test_df = os.path.join(\"./luis_app/data/test_df.csv\")"
   ]
  },
  {
   "cell_type": "code",
   "execution_count": 9,
   "metadata": {},
   "outputs": [],
   "source": [
    "train_df = pd.read_csv(train_df)\n",
    "test_df = pd.read_csv(test_df)"
   ]
  },
  {
   "cell_type": "code",
   "execution_count": 10,
   "metadata": {},
   "outputs": [
    {
     "data": {
      "text/plain": [
       "((900, 6), (200, 6))"
      ]
     },
     "execution_count": 10,
     "metadata": {},
     "output_type": "execute_result"
    }
   ],
   "source": [
    "train_df.shape, test_df.shape"
   ]
  },
  {
   "cell_type": "code",
   "execution_count": 11,
   "metadata": {},
   "outputs": [
    {
     "data": {
      "text/html": [
       "<div>\n",
       "<style scoped>\n",
       "    .dataframe tbody tr th:only-of-type {\n",
       "        vertical-align: middle;\n",
       "    }\n",
       "\n",
       "    .dataframe tbody tr th {\n",
       "        vertical-align: top;\n",
       "    }\n",
       "\n",
       "    .dataframe thead th {\n",
       "        text-align: right;\n",
       "    }\n",
       "</style>\n",
       "<table border=\"1\" class=\"dataframe\">\n",
       "  <thead>\n",
       "    <tr style=\"text-align: right;\">\n",
       "      <th></th>\n",
       "      <th>text</th>\n",
       "      <th>or_city</th>\n",
       "      <th>dst_city</th>\n",
       "      <th>str_date</th>\n",
       "      <th>end_date</th>\n",
       "      <th>budget</th>\n",
       "    </tr>\n",
       "  </thead>\n",
       "  <tbody>\n",
       "    <tr>\n",
       "      <th>0</th>\n",
       "      <td>I am a world-renowned pastry chef and I need t...</td>\n",
       "      <td>NaN</td>\n",
       "      <td>St. Petersburg</td>\n",
       "      <td>NaN</td>\n",
       "      <td>NaN</td>\n",
       "      <td>NaN</td>\n",
       "    </tr>\n",
       "    <tr>\n",
       "      <th>1</th>\n",
       "      <td>IM IN TIJUANA FIND ME A FLIGHT TO CURITIBA AUG...</td>\n",
       "      <td>TIJUANA</td>\n",
       "      <td>CURITIBA</td>\n",
       "      <td>AUG 27</td>\n",
       "      <td>SEPT 4</td>\n",
       "      <td>NaN</td>\n",
       "    </tr>\n",
       "    <tr>\n",
       "      <th>2</th>\n",
       "      <td>Hi im from punta cana looking to go on a trip</td>\n",
       "      <td>punta cana</td>\n",
       "      <td>NaN</td>\n",
       "      <td>NaN</td>\n",
       "      <td>NaN</td>\n",
       "      <td>NaN</td>\n",
       "    </tr>\n",
       "    <tr>\n",
       "      <th>3</th>\n",
       "      <td>Where can this guy go for 2400??? I live in Me...</td>\n",
       "      <td>Mexico City</td>\n",
       "      <td>Milan</td>\n",
       "      <td>NaN</td>\n",
       "      <td>NaN</td>\n",
       "      <td>2400</td>\n",
       "    </tr>\n",
       "    <tr>\n",
       "      <th>4</th>\n",
       "      <td>Are there 5 star hotels in Kyoto?</td>\n",
       "      <td>NaN</td>\n",
       "      <td>Kyoto</td>\n",
       "      <td>NaN</td>\n",
       "      <td>NaN</td>\n",
       "      <td>NaN</td>\n",
       "    </tr>\n",
       "  </tbody>\n",
       "</table>\n",
       "</div>"
      ],
      "text/plain": [
       "                                                text      or_city  \\\n",
       "0  I am a world-renowned pastry chef and I need t...          NaN   \n",
       "1  IM IN TIJUANA FIND ME A FLIGHT TO CURITIBA AUG...      TIJUANA   \n",
       "2      Hi im from punta cana looking to go on a trip   punta cana   \n",
       "3  Where can this guy go for 2400??? I live in Me...  Mexico City   \n",
       "4                  Are there 5 star hotels in Kyoto?          NaN   \n",
       "\n",
       "         dst_city str_date end_date budget  \n",
       "0  St. Petersburg      NaN      NaN    NaN  \n",
       "1        CURITIBA   AUG 27   SEPT 4    NaN  \n",
       "2             NaN      NaN      NaN    NaN  \n",
       "3           Milan      NaN      NaN   2400  \n",
       "4           Kyoto      NaN      NaN    NaN  "
      ]
     },
     "execution_count": 11,
     "metadata": {},
     "output_type": "execute_result"
    }
   ],
   "source": [
    "train_df.head()"
   ]
  },
  {
   "cell_type": "code",
   "execution_count": 12,
   "metadata": {},
   "outputs": [
    {
     "name": "stdout",
     "output_type": "stream",
     "text": [
      "Length Utterances data 900\n"
     ]
    }
   ],
   "source": [
    "bookFlight_utterance = convert_as_utterance(train_df, intentCall='BookFlight', df='Train') #Convert data as utterances"
   ]
  },
  {
   "cell_type": "code",
   "execution_count": 13,
   "metadata": {},
   "outputs": [],
   "source": [
    "with open('luis_app/data/my_train.json', 'w+') as f:\n",
    "    json.dump(bookFlight_utterance, f) #Save the data"
   ]
  },
  {
   "cell_type": "code",
   "execution_count": 14,
   "metadata": {},
   "outputs": [
    {
     "data": {
      "text/plain": [
       "{'text': 'i am a world-renowned pastry chef and i need to travel to st. petersburg - stat!',\n",
       " 'intentName': 'BookFlight',\n",
       " 'entityLabels': [{'entityName': 'dst_city',\n",
       "   'startCharIndex': 58,\n",
       "   'endCharIndex': 72}]}"
      ]
     },
     "execution_count": 14,
     "metadata": {},
     "output_type": "execute_result"
    }
   ],
   "source": [
    "bookFlight_utterance[0]"
   ]
  },
  {
   "cell_type": "code",
   "execution_count": 15,
   "metadata": {},
   "outputs": [
    {
     "data": {
      "text/plain": [
       "<azure.cognitiveservices.language.luis.authoring.models._models_py3.LabelExampleResponse at 0x2615c919550>"
      ]
     },
     "execution_count": 15,
     "metadata": {},
     "output_type": "execute_result"
    }
   ],
   "source": [
    "client.examples.add(app_id, versionId, bookFlight_utterance[0])"
   ]
  },
  {
   "cell_type": "code",
   "execution_count": 16,
   "metadata": {},
   "outputs": [],
   "source": [
    "#Add utterances \n",
    "for i in range(0, len(bookFlight_utterance), 100):\n",
    "    j = i + 100\n",
    "    if j > len(bookFlight_utterance):\n",
    "        j = len(bookFlight_utterance)\n",
    "    add_utterances_to_luis(client, app_id, versionId, bookFlight_utterance[i:j])"
   ]
  },
  {
   "cell_type": "code",
   "execution_count": 17,
   "metadata": {},
   "outputs": [
    {
     "name": "stdout",
     "output_type": "stream",
     "text": [
      "Waiting 10 seconds for training to complete...\n",
      "Waiting 10 seconds for training to complete...\n",
      "Trained\n"
     ]
    }
   ],
   "source": [
    "#Train LUIS app \n",
    "train_app(client, app_id, versionId)"
   ]
  },
  {
   "cell_type": "code",
   "execution_count": 18,
   "metadata": {},
   "outputs": [
    {
     "name": "stdout",
     "output_type": "stream",
     "text": [
      "Length Utterances data 200\n"
     ]
    }
   ],
   "source": [
    "#Create TEST data\n",
    "test_utterance = convert_as_utterance(test_df, intentCall=\"BookFlight\", df='Test')\n",
    "with open('luis_app/data/my_test.json', 'w+') as f:\n",
    "    json.dump(test_utterance, f) # Save the data"
   ]
  },
  {
   "cell_type": "code",
   "execution_count": 19,
   "metadata": {},
   "outputs": [
    {
     "data": {
      "text/plain": [
       "<azure.cognitiveservices.language.luis.authoring.models._models_py3.OperationStatus at 0x2615c905c40>"
      ]
     },
     "execution_count": 19,
     "metadata": {},
     "output_type": "execute_result"
    }
   ],
   "source": [
    "client.apps.update_settings(app_id, is_public=True)"
   ]
  },
  {
   "cell_type": "code",
   "execution_count": 20,
   "metadata": {},
   "outputs": [],
   "source": [
    "responseEndpointInfo = client.apps.publish(app_id, versionId, is_staging=False)"
   ]
  },
  {
   "cell_type": "code",
   "execution_count": 21,
   "metadata": {},
   "outputs": [
    {
     "name": "stdout",
     "output_type": "stream",
     "text": [
      "Application published. Endpoint URL:  https://westeurope.api.cognitive.microsoft.com/luis/v2.0/apps/4a9683a7-525a-4df5-aa8d-e4f9f088ce51\n"
     ]
    }
   ],
   "source": [
    "#Publish app\n",
    "publish_app(client, app_id, versionId)"
   ]
  },
  {
   "cell_type": "code",
   "execution_count": 308,
   "metadata": {},
   "outputs": [],
   "source": [
    "# Production == slot name\n",
    "predictionRequest = { 'query':'book a flight for 10 days from 10 September 2022 from Paris to Brazil with a budget of 4000€' }\n",
    "\n",
    "predictionResponse = clientRuntime.prediction.get_slot_prediction(app_id, \"Production\", predictionRequest)\n",
    "print(\"Top intent: {}\".format(predictionResponse.prediction.top_intent))\n",
    "print(\"Intents: \")\n",
    "\n",
    "for intent in predictionResponse.prediction.intents:\n",
    "    print(\"\\t{}\".format (json.dumps (intent)))\n",
    "print(\"Entities: {}\".format (predictionResponse.prediction.entities))"
   ]
  },
  {
   "attachments": {},
   "cell_type": "markdown",
   "metadata": {},
   "source": [
    "# Test scores entities"
   ]
  },
  {
   "cell_type": "code",
   "execution_count": null,
   "metadata": {},
   "outputs": [],
   "source": []
  },
  {
   "cell_type": "code",
   "execution_count": 39,
   "metadata": {},
   "outputs": [],
   "source": [
    "authoringKey ='58c164d9218d49fbbded211388bb06ad'\n",
    "authoringEndpoint = 'https://luisoc-authoring.cognitiveservices.azure.com/'\n",
    "predictionKey = '10cf4c925d3640e39afc9c76af3488c8'\n",
    "predictionEndpoint = 'https://luis-oc.cognitiveservices.azure.com/'\n",
    "LUIS_SLOT_NAME = 'Production'\n",
    "LUIS_APP_ID = '4a9683a7-525a-4df5-aa8d-e4f9f088ce51'\n",
    "\n",
    "appName = \"FlightBooking2_\" + str(uuid.uuid4())\n",
    "versionId = \"0.1\"\n",
    "\n",
    "client = LUISAuthoringClient(authoringEndpoint, CognitiveServicesCredentials(authoringKey))\n",
    "clientRuntime = LUISRuntimeClient(predictionEndpoint, CognitiveServicesCredentials(predictionKey))\n",
    "\n",
    "#Define app basics \n",
    "appDefinition = ApplicationCreateObject(name=appName, initial_version_id=versionId, culture='fr-fr')\n"
   ]
  },
  {
   "cell_type": "code",
   "execution_count": 193,
   "metadata": {},
   "outputs": [],
   "source": [
    "test_df = os.path.join(\"./luis_app/data/test_df.csv\")\n",
    "test_df = pd.read_csv(test_df)"
   ]
  },
  {
   "cell_type": "code",
   "execution_count": 292,
   "metadata": {},
   "outputs": [],
   "source": [
    "def score(request, df):\n",
    "    \"\"\" For each request, detect all entites and their best score\"\"\"\n",
    "    response = clientRuntime.prediction.resolve(app_id, query=request)\n",
    "\n",
    "    list_entities = []\n",
    "    dict_entities = {}\n",
    "    # columns = [\"or_city\", \"dst_city\", \"str_date\", \"end_date\", \"budget\"]\n",
    "    # df_score = pd.DataFrame(columns=columns)\n",
    "\n",
    "    for entity in response.entities:\n",
    "        entity_type = entity.type\n",
    "        score = entity.additional_properties.get(\"score\")\n",
    "\n",
    "        if entity_type in dict_entities.keys():\n",
    "            old_score = dict_entities.get(entity_type)\n",
    "            top_score = max(old_score, score)\n",
    "            dict_entities[entity_type] = top_score\n",
    "\n",
    "        else:\n",
    "            dict_entities[entity.type] = score\n",
    "\n",
    "    df_score = pd.concat([df, pd.DataFrame([dict_entities])], ignore_index =True)\n",
    "\n",
    "    return df_score"
   ]
  },
  {
   "cell_type": "code",
   "execution_count": 293,
   "metadata": {},
   "outputs": [
    {
     "data": {
      "text/html": [
       "<div>\n",
       "<style scoped>\n",
       "    .dataframe tbody tr th:only-of-type {\n",
       "        vertical-align: middle;\n",
       "    }\n",
       "\n",
       "    .dataframe tbody tr th {\n",
       "        vertical-align: top;\n",
       "    }\n",
       "\n",
       "    .dataframe thead th {\n",
       "        text-align: right;\n",
       "    }\n",
       "</style>\n",
       "<table border=\"1\" class=\"dataframe\">\n",
       "  <thead>\n",
       "    <tr style=\"text-align: right;\">\n",
       "      <th></th>\n",
       "      <th>or_city</th>\n",
       "      <th>dst_city</th>\n",
       "      <th>str_date</th>\n",
       "      <th>end_date</th>\n",
       "      <th>budget</th>\n",
       "    </tr>\n",
       "  </thead>\n",
       "  <tbody>\n",
       "  </tbody>\n",
       "</table>\n",
       "</div>"
      ],
      "text/plain": [
       "Empty DataFrame\n",
       "Columns: [or_city, dst_city, str_date, end_date, budget]\n",
       "Index: []"
      ]
     },
     "execution_count": 293,
     "metadata": {},
     "output_type": "execute_result"
    }
   ],
   "source": [
    "columns = [\"or_city\", \"dst_city\", \"str_date\", \"end_date\", \"budget\"]\n",
    "df_score = pd.DataFrame(columns=columns)\n",
    "df_score"
   ]
  },
  {
   "cell_type": "code",
   "execution_count": 294,
   "metadata": {},
   "outputs": [],
   "source": [
    "for i in range(0, len(test_df[\"text\"].iloc[:])):\n",
    "    df_score = score(test_df[\"text\"].iloc[i], df_score)"
   ]
  },
  {
   "cell_type": "code",
   "execution_count": 296,
   "metadata": {},
   "outputs": [
    {
     "data": {
      "text/html": [
       "<div>\n",
       "<style scoped>\n",
       "    .dataframe tbody tr th:only-of-type {\n",
       "        vertical-align: middle;\n",
       "    }\n",
       "\n",
       "    .dataframe tbody tr th {\n",
       "        vertical-align: top;\n",
       "    }\n",
       "\n",
       "    .dataframe thead th {\n",
       "        text-align: right;\n",
       "    }\n",
       "</style>\n",
       "<table border=\"1\" class=\"dataframe\">\n",
       "  <thead>\n",
       "    <tr style=\"text-align: right;\">\n",
       "      <th></th>\n",
       "      <th>or_city</th>\n",
       "      <th>dst_city</th>\n",
       "      <th>str_date</th>\n",
       "      <th>end_date</th>\n",
       "      <th>budget</th>\n",
       "    </tr>\n",
       "  </thead>\n",
       "  <tbody>\n",
       "    <tr>\n",
       "      <th>0</th>\n",
       "      <td>0.662568</td>\n",
       "      <td>0.705345</td>\n",
       "      <td>0.974984</td>\n",
       "      <td>0.84059</td>\n",
       "      <td>NaN</td>\n",
       "    </tr>\n",
       "    <tr>\n",
       "      <th>1</th>\n",
       "      <td>0.768433</td>\n",
       "      <td>NaN</td>\n",
       "      <td>0.893045</td>\n",
       "      <td>NaN</td>\n",
       "      <td>NaN</td>\n",
       "    </tr>\n",
       "    <tr>\n",
       "      <th>2</th>\n",
       "      <td>0.952819</td>\n",
       "      <td>0.503639</td>\n",
       "      <td>NaN</td>\n",
       "      <td>NaN</td>\n",
       "      <td>NaN</td>\n",
       "    </tr>\n",
       "    <tr>\n",
       "      <th>3</th>\n",
       "      <td>0.999516</td>\n",
       "      <td>0.999948</td>\n",
       "      <td>NaN</td>\n",
       "      <td>NaN</td>\n",
       "      <td>NaN</td>\n",
       "    </tr>\n",
       "    <tr>\n",
       "      <th>4</th>\n",
       "      <td>0.594178</td>\n",
       "      <td>NaN</td>\n",
       "      <td>0.999207</td>\n",
       "      <td>0.998143</td>\n",
       "      <td>NaN</td>\n",
       "    </tr>\n",
       "    <tr>\n",
       "      <th>...</th>\n",
       "      <td>...</td>\n",
       "      <td>...</td>\n",
       "      <td>...</td>\n",
       "      <td>...</td>\n",
       "      <td>...</td>\n",
       "    </tr>\n",
       "    <tr>\n",
       "      <th>195</th>\n",
       "      <td>0.999851</td>\n",
       "      <td>NaN</td>\n",
       "      <td>NaN</td>\n",
       "      <td>NaN</td>\n",
       "      <td>0.998493</td>\n",
       "    </tr>\n",
       "    <tr>\n",
       "      <th>196</th>\n",
       "      <td>0.817052</td>\n",
       "      <td>0.995417</td>\n",
       "      <td>NaN</td>\n",
       "      <td>NaN</td>\n",
       "      <td>NaN</td>\n",
       "    </tr>\n",
       "    <tr>\n",
       "      <th>197</th>\n",
       "      <td>NaN</td>\n",
       "      <td>0.979467</td>\n",
       "      <td>NaN</td>\n",
       "      <td>NaN</td>\n",
       "      <td>NaN</td>\n",
       "    </tr>\n",
       "    <tr>\n",
       "      <th>198</th>\n",
       "      <td>0.975755</td>\n",
       "      <td>0.99819</td>\n",
       "      <td>NaN</td>\n",
       "      <td>NaN</td>\n",
       "      <td>NaN</td>\n",
       "    </tr>\n",
       "    <tr>\n",
       "      <th>199</th>\n",
       "      <td>0.92895</td>\n",
       "      <td>0.999309</td>\n",
       "      <td>0.584497</td>\n",
       "      <td>NaN</td>\n",
       "      <td>0.729733</td>\n",
       "    </tr>\n",
       "  </tbody>\n",
       "</table>\n",
       "<p>200 rows × 5 columns</p>\n",
       "</div>"
      ],
      "text/plain": [
       "      or_city  dst_city  str_date  end_date    budget\n",
       "0    0.662568  0.705345  0.974984   0.84059       NaN\n",
       "1    0.768433       NaN  0.893045       NaN       NaN\n",
       "2    0.952819  0.503639       NaN       NaN       NaN\n",
       "3    0.999516  0.999948       NaN       NaN       NaN\n",
       "4    0.594178       NaN  0.999207  0.998143       NaN\n",
       "..        ...       ...       ...       ...       ...\n",
       "195  0.999851       NaN       NaN       NaN  0.998493\n",
       "196  0.817052  0.995417       NaN       NaN       NaN\n",
       "197       NaN  0.979467       NaN       NaN       NaN\n",
       "198  0.975755   0.99819       NaN       NaN       NaN\n",
       "199   0.92895  0.999309  0.584497       NaN  0.729733\n",
       "\n",
       "[200 rows x 5 columns]"
      ]
     },
     "execution_count": 296,
     "metadata": {},
     "output_type": "execute_result"
    }
   ],
   "source": [
    "df_score"
   ]
  },
  {
   "cell_type": "code",
   "execution_count": 299,
   "metadata": {},
   "outputs": [],
   "source": [
    "mean_df = df_score[columns].mean()"
   ]
  },
  {
   "cell_type": "code",
   "execution_count": 307,
   "metadata": {},
   "outputs": [
    {
     "name": "stdout",
     "output_type": "stream",
     "text": [
      "Mean score for or_city entity: 0.9412346803676472\n",
      "Mean score for dst_city entity: 0.9525263956250005\n",
      "Mean score for str_date entity: 0.9467749378688524\n",
      "Mean score for end_date entity: 0.9036219343589741\n",
      "Mean score for budget entity: 0.8815136381818183\n"
     ]
    }
   ],
   "source": [
    "for i in mean_df.index:\n",
    "    print(\"Mean score for {} entity: {}\".format(i, mean_df.loc[i]))"
   ]
  }
 ],
 "metadata": {
  "kernelspec": {
   "display_name": "base",
   "language": "python",
   "name": "python3"
  },
  "language_info": {
   "codemirror_mode": {
    "name": "ipython",
    "version": 3
   },
   "file_extension": ".py",
   "mimetype": "text/x-python",
   "name": "python",
   "nbconvert_exporter": "python",
   "pygments_lexer": "ipython3",
   "version": "3.9.12"
  },
  "orig_nbformat": 4,
  "vscode": {
   "interpreter": {
    "hash": "c4c22707e48dcbd36fde69647134b167debfa1b052e328da1b377e8a01a6f07e"
   }
  }
 },
 "nbformat": 4,
 "nbformat_minor": 2
}
